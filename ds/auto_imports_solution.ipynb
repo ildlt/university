{
 "cells": [
  {
   "cell_type": "code",
   "execution_count": 7,
   "metadata": {},
   "outputs": [],
   "source": [
    "%matplotlib inline\n",
    "import matplotlib.pyplot as plt\n",
    "import pandas as pd\n",
    "import numpy as np"
   ]
  },
  {
   "cell_type": "markdown",
   "metadata": {},
   "source": [
    "Auto imports dataset https://archive.ics.uci.edu/ml/datasets/automobile\n",
    "\n",
    "Missing attribute values denoted by \"?\""
   ]
  },
  {
   "cell_type": "code",
   "execution_count": 8,
   "metadata": {},
   "outputs": [],
   "source": [
    "# Number of Attributes: 26 total\n",
    "#    -- 15 continuous\n",
    "#    -- 1 integer\n",
    "#    -- 10 nominal\n",
    "\n",
    "#  Attribute Information:     \n",
    "#      Attribute:                Attribute Range:\n",
    "#      ------------------        -----------------------------------------------\n",
    "#   1. symboling:                -3, -2, -1, 0, 1, 2, 3.\n",
    "#   2. normalized-losses:        continuous from 65 to 256.\n",
    "#   3. make:                     alfa-romero, audi, bmw, chevrolet, dodge, honda,\n",
    "#                                isuzu, jaguar, mazda, mercedes-benz, mercury,\n",
    "#                                mitsubishi, nissan, peugot, plymouth, porsche,\n",
    "#                                renault, saab, subaru, toyota, volkswagen, volvo\n",
    "#   4. fuel-type:                diesel, gas.\n",
    "#   5. aspiration:               std, turbo.\n",
    "#   6. num-of-doors:             four, two.\n",
    "#   7. body-style:               hardtop, wagon, sedan, hatchback, convertible.\n",
    "#   8. drive-wheels:             4wd, fwd, rwd.\n",
    "#   9. engine-location:          front, rear.\n",
    "#  10. wheel-base:               continuous from 86.6 120.9.\n",
    "#  11. length:                   continuous from 141.1 to 208.1.\n",
    "#  12. width:                    continuous from 60.3 to 72.3.\n",
    "#  13. height:                   continuous from 47.8 to 59.8.\n",
    "#  14. curb-weight:              continuous from 1488 to 4066.\n",
    "#  15. engine-type:              dohc, dohcv, l, ohc, ohcf, ohcv, rotor.\n",
    "#  16. num-of-cylinders:         eight, five, four, six, three, twelve, two.\n",
    "#  17. engine-size:              continuous from 61 to 326.\n",
    "#  18. fuel-system:              1bbl, 2bbl, 4bbl, idi, mfi, mpfi, spdi, spfi.\n",
    "#  19. bore:                     continuous from 2.54 to 3.94.\n",
    "#  20. stroke:                   continuous from 2.07 to 4.17.\n",
    "#  21. compression-ratio:        continuous from 7 to 23.\n",
    "#  22. horsepower:               continuous from 48 to 288.\n",
    "#  23. peak-rpm:                 continuous from 4150 to 6600.\n",
    "#  24. city-mpg:                 continuous from 13 to 49.\n",
    "#  25. highway-mpg:              continuous from 16 to 54.\n",
    "#  26. price:                    continuous from 5118 to 45400.\n",
    "\n",
    "# \"Symboling\" corresponds to the degree to which the auto is more risky than its price indicates.\n",
    "# Cars are initially assigned a risk factor symbol associated with its price. Then, if it is more risky (or less), this symbol is\n",
    "# adjusted by moving it up (or down) the scale. A value of +3 indicates that the auto is risky, -3 that it is probably pretty safe.\n",
    "\n",
    "# \"Normalized-losses\" is the relative average loss payment per insured vehicle year. This value is normalized for all autos within a\n",
    "# particular size classification (two-door small, station wagons, sports/speciality, etc...), and represents the average loss per car\n",
    "# per year.\n",
    "\n",
    "#  Missing Attribute Values: (denoted by \"?\")\n",
    "#    Attribute #:   Number of instances missing a value:\n",
    "#    2.             41\n",
    "#    6.             2\n",
    "#    19.            4\n",
    "#    20.            4\n",
    "#    22.            2\n",
    "#    23.            2\n",
    "#    26.            4"
   ]
  },
  {
   "cell_type": "markdown",
   "metadata": {},
   "source": [
    "### Read data and replace \"?\" with nan"
   ]
  },
  {
   "cell_type": "code",
   "execution_count": 9,
   "metadata": {},
   "outputs": [],
   "source": [
    "df = pd.read_csv('automobile_data.csv')\n",
    "df = df.replace('?', np.nan)"
   ]
  },
  {
   "cell_type": "code",
   "execution_count": 10,
   "metadata": {
    "scrolled": true
   },
   "outputs": [
    {
     "name": "stdout",
     "output_type": "stream",
     "text": [
      "<class 'pandas.core.frame.DataFrame'>\n",
      "RangeIndex: 205 entries, 0 to 204\n",
      "Data columns (total 26 columns):\n",
      " #   Column             Non-Null Count  Dtype  \n",
      "---  ------             --------------  -----  \n",
      " 0   symboling          205 non-null    int64  \n",
      " 1   normalized-losses  164 non-null    object \n",
      " 2   make               205 non-null    object \n",
      " 3   fuel-type          205 non-null    object \n",
      " 4   aspiration         205 non-null    object \n",
      " 5   num-of-doors       203 non-null    object \n",
      " 6   body-style         205 non-null    object \n",
      " 7   drive-wheels       205 non-null    object \n",
      " 8   engine-location    205 non-null    object \n",
      " 9   wheel-base         205 non-null    float64\n",
      " 10  length             205 non-null    float64\n",
      " 11  width              205 non-null    float64\n",
      " 12  height             205 non-null    float64\n",
      " 13  curb-weight        205 non-null    int64  \n",
      " 14  engine-type        205 non-null    object \n",
      " 15  num-of-cylinders   205 non-null    object \n",
      " 16  engine-size        205 non-null    int64  \n",
      " 17  fuel-system        205 non-null    object \n",
      " 18  bore               201 non-null    object \n",
      " 19  stroke             201 non-null    object \n",
      " 20  compression-ratio  205 non-null    float64\n",
      " 21  horsepower         203 non-null    object \n",
      " 22  peak-rpm           203 non-null    object \n",
      " 23  city-mpg           205 non-null    int64  \n",
      " 24  highway-mpg        205 non-null    int64  \n",
      " 25  price              201 non-null    object \n",
      "dtypes: float64(5), int64(5), object(16)\n",
      "memory usage: 41.8+ KB\n"
     ]
    }
   ],
   "source": [
    "df.info()"
   ]
  },
  {
   "cell_type": "code",
   "execution_count": 11,
   "metadata": {},
   "outputs": [],
   "source": [
    "df = df[df['price'].notnull()]"
   ]
  },
  {
   "cell_type": "markdown",
   "metadata": {},
   "source": [
    "### Impute missing values"
   ]
  },
  {
   "cell_type": "code",
   "execution_count": 12,
   "metadata": {},
   "outputs": [],
   "source": [
    "columns = ['normalized-losses', 'stroke', 'bore', 'horsepower', 'peak-rpm', ]\n",
    "for i in columns:\n",
    "    m = df[i].median()\n",
    "    df[i] = df[i].replace(np.nan, m)"
   ]
  },
  {
   "cell_type": "code",
   "execution_count": 13,
   "metadata": {},
   "outputs": [
    {
     "data": {
      "text/html": [
       "<div>\n",
       "<style scoped>\n",
       "    .dataframe tbody tr th:only-of-type {\n",
       "        vertical-align: middle;\n",
       "    }\n",
       "\n",
       "    .dataframe tbody tr th {\n",
       "        vertical-align: top;\n",
       "    }\n",
       "\n",
       "    .dataframe thead th {\n",
       "        text-align: right;\n",
       "    }\n",
       "</style>\n",
       "<table border=\"1\" class=\"dataframe\">\n",
       "  <thead>\n",
       "    <tr style=\"text-align: right;\">\n",
       "      <th></th>\n",
       "      <th>symboling</th>\n",
       "      <th>normalized-losses</th>\n",
       "      <th>make</th>\n",
       "      <th>fuel-type</th>\n",
       "      <th>aspiration</th>\n",
       "      <th>num-of-doors</th>\n",
       "      <th>body-style</th>\n",
       "      <th>drive-wheels</th>\n",
       "      <th>engine-location</th>\n",
       "      <th>wheel-base</th>\n",
       "      <th>...</th>\n",
       "      <th>engine-size</th>\n",
       "      <th>fuel-system</th>\n",
       "      <th>bore</th>\n",
       "      <th>stroke</th>\n",
       "      <th>compression-ratio</th>\n",
       "      <th>horsepower</th>\n",
       "      <th>peak-rpm</th>\n",
       "      <th>city-mpg</th>\n",
       "      <th>highway-mpg</th>\n",
       "      <th>price</th>\n",
       "    </tr>\n",
       "  </thead>\n",
       "  <tbody>\n",
       "    <tr>\n",
       "      <th>27</th>\n",
       "      <td>1</td>\n",
       "      <td>148</td>\n",
       "      <td>dodge</td>\n",
       "      <td>gas</td>\n",
       "      <td>turbo</td>\n",
       "      <td>NaN</td>\n",
       "      <td>sedan</td>\n",
       "      <td>fwd</td>\n",
       "      <td>front</td>\n",
       "      <td>93.7</td>\n",
       "      <td>...</td>\n",
       "      <td>98</td>\n",
       "      <td>mpfi</td>\n",
       "      <td>3.03</td>\n",
       "      <td>3.39</td>\n",
       "      <td>7.6</td>\n",
       "      <td>102</td>\n",
       "      <td>5500</td>\n",
       "      <td>24</td>\n",
       "      <td>30</td>\n",
       "      <td>8558</td>\n",
       "    </tr>\n",
       "    <tr>\n",
       "      <th>63</th>\n",
       "      <td>0</td>\n",
       "      <td>115</td>\n",
       "      <td>mazda</td>\n",
       "      <td>diesel</td>\n",
       "      <td>std</td>\n",
       "      <td>NaN</td>\n",
       "      <td>sedan</td>\n",
       "      <td>fwd</td>\n",
       "      <td>front</td>\n",
       "      <td>98.8</td>\n",
       "      <td>...</td>\n",
       "      <td>122</td>\n",
       "      <td>idi</td>\n",
       "      <td>3.39</td>\n",
       "      <td>3.39</td>\n",
       "      <td>22.7</td>\n",
       "      <td>64</td>\n",
       "      <td>4650</td>\n",
       "      <td>36</td>\n",
       "      <td>42</td>\n",
       "      <td>10795</td>\n",
       "    </tr>\n",
       "  </tbody>\n",
       "</table>\n",
       "<p>2 rows × 26 columns</p>\n",
       "</div>"
      ],
      "text/plain": [
       "    symboling normalized-losses   make fuel-type aspiration num-of-doors  \\\n",
       "27          1               148  dodge       gas      turbo          NaN   \n",
       "63          0               115  mazda    diesel        std          NaN   \n",
       "\n",
       "   body-style drive-wheels engine-location  wheel-base  ...  engine-size  \\\n",
       "27      sedan          fwd           front        93.7  ...           98   \n",
       "63      sedan          fwd           front        98.8  ...          122   \n",
       "\n",
       "    fuel-system  bore  stroke compression-ratio horsepower  peak-rpm city-mpg  \\\n",
       "27         mpfi  3.03    3.39               7.6        102      5500       24   \n",
       "63          idi  3.39    3.39              22.7         64      4650       36   \n",
       "\n",
       "   highway-mpg  price  \n",
       "27          30   8558  \n",
       "63          42  10795  \n",
       "\n",
       "[2 rows x 26 columns]"
      ]
     },
     "execution_count": 13,
     "metadata": {},
     "output_type": "execute_result"
    }
   ],
   "source": [
    "df[df['num-of-doors'].isnull()]"
   ]
  },
  {
   "cell_type": "code",
   "execution_count": 14,
   "metadata": {
    "scrolled": true
   },
   "outputs": [
    {
     "data": {
      "text/plain": [
       "symboling                1\n",
       "normalized-losses      148\n",
       "make                 dodge\n",
       "fuel-type              gas\n",
       "aspiration           turbo\n",
       "num-of-doors           NaN\n",
       "body-style           sedan\n",
       "drive-wheels           fwd\n",
       "engine-location      front\n",
       "wheel-base            93.7\n",
       "length               157.3\n",
       "width                 63.8\n",
       "height                50.6\n",
       "curb-weight           2191\n",
       "engine-type            ohc\n",
       "num-of-cylinders      four\n",
       "engine-size             98\n",
       "fuel-system           mpfi\n",
       "bore                  3.03\n",
       "stroke                3.39\n",
       "compression-ratio      7.6\n",
       "horsepower             102\n",
       "peak-rpm              5500\n",
       "city-mpg                24\n",
       "highway-mpg             30\n",
       "price                 8558\n",
       "Name: 27, dtype: object"
      ]
     },
     "execution_count": 14,
     "metadata": {},
     "output_type": "execute_result"
    }
   ],
   "source": [
    "df.loc[27,:]"
   ]
  },
  {
   "cell_type": "code",
   "execution_count": 15,
   "metadata": {
    "scrolled": true
   },
   "outputs": [
    {
     "data": {
      "text/plain": [
       "symboling                 0\n",
       "normalized-losses       115\n",
       "make                  mazda\n",
       "fuel-type            diesel\n",
       "aspiration              std\n",
       "num-of-doors            NaN\n",
       "body-style            sedan\n",
       "drive-wheels            fwd\n",
       "engine-location       front\n",
       "wheel-base             98.8\n",
       "length                177.8\n",
       "width                  66.5\n",
       "height                 55.5\n",
       "curb-weight            2443\n",
       "engine-type             ohc\n",
       "num-of-cylinders       four\n",
       "engine-size             122\n",
       "fuel-system             idi\n",
       "bore                   3.39\n",
       "stroke                 3.39\n",
       "compression-ratio      22.7\n",
       "horsepower               64\n",
       "peak-rpm               4650\n",
       "city-mpg                 36\n",
       "highway-mpg              42\n",
       "price                 10795\n",
       "Name: 63, dtype: object"
      ]
     },
     "execution_count": 15,
     "metadata": {},
     "output_type": "execute_result"
    }
   ],
   "source": [
    "df.loc[63,:]"
   ]
  },
  {
   "cell_type": "code",
   "execution_count": 16,
   "metadata": {},
   "outputs": [
    {
     "data": {
      "text/plain": [
       "four    78\n",
       "two     14\n",
       "Name: num-of-doors, dtype: int64"
      ]
     },
     "execution_count": 16,
     "metadata": {},
     "output_type": "execute_result"
    }
   ],
   "source": [
    "df[df['body-style'] == 'sedan']['num-of-doors'].value_counts()"
   ]
  },
  {
   "cell_type": "code",
   "execution_count": 17,
   "metadata": {},
   "outputs": [],
   "source": [
    "df['num-of-doors'] = df['num-of-doors'].replace(np.nan, 'four')"
   ]
  },
  {
   "cell_type": "code",
   "execution_count": 18,
   "metadata": {},
   "outputs": [
    {
     "name": "stdout",
     "output_type": "stream",
     "text": [
      "<class 'pandas.core.frame.DataFrame'>\n",
      "Int64Index: 201 entries, 0 to 204\n",
      "Data columns (total 26 columns):\n",
      " #   Column             Non-Null Count  Dtype  \n",
      "---  ------             --------------  -----  \n",
      " 0   symboling          201 non-null    int64  \n",
      " 1   normalized-losses  201 non-null    object \n",
      " 2   make               201 non-null    object \n",
      " 3   fuel-type          201 non-null    object \n",
      " 4   aspiration         201 non-null    object \n",
      " 5   num-of-doors       201 non-null    object \n",
      " 6   body-style         201 non-null    object \n",
      " 7   drive-wheels       201 non-null    object \n",
      " 8   engine-location    201 non-null    object \n",
      " 9   wheel-base         201 non-null    float64\n",
      " 10  length             201 non-null    float64\n",
      " 11  width              201 non-null    float64\n",
      " 12  height             201 non-null    float64\n",
      " 13  curb-weight        201 non-null    int64  \n",
      " 14  engine-type        201 non-null    object \n",
      " 15  num-of-cylinders   201 non-null    object \n",
      " 16  engine-size        201 non-null    int64  \n",
      " 17  fuel-system        201 non-null    object \n",
      " 18  bore               201 non-null    object \n",
      " 19  stroke             201 non-null    object \n",
      " 20  compression-ratio  201 non-null    float64\n",
      " 21  horsepower         201 non-null    object \n",
      " 22  peak-rpm           201 non-null    object \n",
      " 23  city-mpg           201 non-null    int64  \n",
      " 24  highway-mpg        201 non-null    int64  \n",
      " 25  price              201 non-null    object \n",
      "dtypes: float64(5), int64(5), object(16)\n",
      "memory usage: 52.4+ KB\n"
     ]
    }
   ],
   "source": [
    "df.info()"
   ]
  },
  {
   "cell_type": "markdown",
   "metadata": {},
   "source": [
    "### Encode categorical features"
   ]
  },
  {
   "cell_type": "code",
   "execution_count": 19,
   "metadata": {},
   "outputs": [],
   "source": [
    "label_columns = ['symboling','make', 'fuel-type', 'aspiration', 'num-of-doors', 'body-style', 'drive-wheels', 'engine-location', 'engine-type', 'num-of-cylinders', 'fuel-system']\n",
    "df_label_columns = df[label_columns]"
   ]
  },
  {
   "cell_type": "code",
   "execution_count": 20,
   "metadata": {},
   "outputs": [
    {
     "data": {
      "text/plain": [
       "[array([-2, -1,  0,  1,  2,  3], dtype=int64),\n",
       " array(['alfa-romero', 'audi', 'bmw', 'chevrolet', 'dodge', 'honda',\n",
       "        'isuzu', 'jaguar', 'mazda', 'mercedes-benz', 'mercury',\n",
       "        'mitsubishi', 'nissan', 'peugot', 'plymouth', 'porsche', 'renault',\n",
       "        'saab', 'subaru', 'toyota', 'volkswagen', 'volvo'], dtype=object),\n",
       " array(['diesel', 'gas'], dtype=object),\n",
       " array(['std', 'turbo'], dtype=object),\n",
       " array(['four', 'two'], dtype=object),\n",
       " array(['convertible', 'hardtop', 'hatchback', 'sedan', 'wagon'],\n",
       "       dtype=object),\n",
       " array(['4wd', 'fwd', 'rwd'], dtype=object),\n",
       " array(['front', 'rear'], dtype=object),\n",
       " array(['dohc', 'l', 'ohc', 'ohcf', 'ohcv', 'rotor'], dtype=object),\n",
       " array(['eight', 'five', 'four', 'six', 'three', 'twelve', 'two'],\n",
       "       dtype=object),\n",
       " array(['1bbl', '2bbl', '4bbl', 'idi', 'mfi', 'mpfi', 'spdi', 'spfi'],\n",
       "       dtype=object)]"
      ]
     },
     "execution_count": 20,
     "metadata": {},
     "output_type": "execute_result"
    }
   ],
   "source": [
    "from sklearn import preprocessing\n",
    "enc = preprocessing.OneHotEncoder(dtype = 'int32')\n",
    "enc_label_columns = enc.fit_transform(df_label_columns).toarray()\n",
    "enc.categories_"
   ]
  },
  {
   "cell_type": "code",
   "execution_count": 21,
   "metadata": {},
   "outputs": [
    {
     "data": {
      "text/plain": [
       "(201, 65)"
      ]
     },
     "execution_count": 21,
     "metadata": {},
     "output_type": "execute_result"
    }
   ],
   "source": [
    "enc_label_columns.shape"
   ]
  },
  {
   "cell_type": "code",
   "execution_count": 22,
   "metadata": {},
   "outputs": [
    {
     "data": {
      "text/plain": [
       "Index(['symboling', 'normalized-losses', 'make', 'fuel-type', 'aspiration',\n",
       "       'num-of-doors', 'body-style', 'drive-wheels', 'engine-location',\n",
       "       'wheel-base', 'length', 'width', 'height', 'curb-weight', 'engine-type',\n",
       "       'num-of-cylinders', 'engine-size', 'fuel-system', 'bore', 'stroke',\n",
       "       'compression-ratio', 'horsepower', 'peak-rpm', 'city-mpg',\n",
       "       'highway-mpg', 'price'],\n",
       "      dtype='object')"
      ]
     },
     "execution_count": 22,
     "metadata": {},
     "output_type": "execute_result"
    }
   ],
   "source": [
    "all_columns = df.columns\n",
    "all_columns"
   ]
  },
  {
   "cell_type": "code",
   "execution_count": 23,
   "metadata": {},
   "outputs": [
    {
     "data": {
      "text/plain": [
       "['normalized-losses',\n",
       " 'engine-size',\n",
       " 'bore',\n",
       " 'height',\n",
       " 'peak-rpm',\n",
       " 'city-mpg',\n",
       " 'compression-ratio',\n",
       " 'wheel-base',\n",
       " 'width',\n",
       " 'stroke',\n",
       " 'curb-weight',\n",
       " 'horsepower',\n",
       " 'length',\n",
       " 'highway-mpg',\n",
       " 'price']"
      ]
     },
     "execution_count": 23,
     "metadata": {},
     "output_type": "execute_result"
    }
   ],
   "source": [
    "columns = list(set(all_columns) - set(label_columns))\n",
    "columns"
   ]
  },
  {
   "cell_type": "code",
   "execution_count": 24,
   "metadata": {},
   "outputs": [
    {
     "data": {
      "text/plain": [
       "(201, 79)"
      ]
     },
     "execution_count": 24,
     "metadata": {},
     "output_type": "execute_result"
    }
   ],
   "source": [
    "X = df[columns].drop('price', axis = 1).values\n",
    "X = np.concatenate([X, enc_label_columns], axis=1)\n",
    "X.shape"
   ]
  },
  {
   "cell_type": "code",
   "execution_count": 25,
   "metadata": {},
   "outputs": [
    {
     "data": {
      "text/plain": [
       "(201,)"
      ]
     },
     "execution_count": 25,
     "metadata": {},
     "output_type": "execute_result"
    }
   ],
   "source": [
    "Y = df['price'].values\n",
    "Y.shape"
   ]
  },
  {
   "cell_type": "markdown",
   "metadata": {},
   "source": [
    "### Split data into train and test"
   ]
  },
  {
   "cell_type": "code",
   "execution_count": 26,
   "metadata": {},
   "outputs": [],
   "source": [
    "Rand = 1"
   ]
  },
  {
   "cell_type": "code",
   "execution_count": 27,
   "metadata": {},
   "outputs": [
    {
     "name": "stdout",
     "output_type": "stream",
     "text": [
      "(150, 79) (51, 79)\n"
     ]
    }
   ],
   "source": [
    "from sklearn.model_selection import train_test_split\n",
    "# Split to train and test\n",
    "# 75% and 25% by default\n",
    "Xtrain, Xtest, ytrain, ytest = train_test_split(X, Y, random_state=Rand)\n",
    "print(Xtrain.shape, Xtest.shape)"
   ]
  },
  {
   "cell_type": "markdown",
   "metadata": {},
   "source": [
    "### Build models"
   ]
  },
  {
   "cell_type": "markdown",
   "metadata": {},
   "source": [
    "#### RandomForestRegressor"
   ]
  },
  {
   "cell_type": "code",
   "execution_count": 28,
   "metadata": {},
   "outputs": [],
   "source": [
    "from sklearn.ensemble import RandomForestRegressor"
   ]
  },
  {
   "cell_type": "code",
   "execution_count": 29,
   "metadata": {},
   "outputs": [
    {
     "name": "stdout",
     "output_type": "stream",
     "text": [
      "train R^2 0.9904406656184902\n",
      "train R^2 0.90491695858199\n"
     ]
    }
   ],
   "source": [
    "rfr = RandomForestRegressor(random_state = Rand, n_jobs = -1)\n",
    "rfr.fit(Xtrain, ytrain)\n",
    "print('train R^2', rfr.score(Xtrain, ytrain))\n",
    "print('train R^2', rfr.score(Xtest, ytest))"
   ]
  },
  {
   "cell_type": "code",
   "execution_count": null,
   "metadata": {},
   "outputs": [],
   "source": []
  },
  {
   "cell_type": "markdown",
   "metadata": {},
   "source": [
    "#### GradientBoostingRegressor"
   ]
  },
  {
   "cell_type": "code",
   "execution_count": 30,
   "metadata": {},
   "outputs": [],
   "source": [
    "from sklearn.ensemble import GradientBoostingRegressor"
   ]
  },
  {
   "cell_type": "code",
   "execution_count": 31,
   "metadata": {},
   "outputs": [
    {
     "name": "stdout",
     "output_type": "stream",
     "text": [
      "train R^2 0.994308754677728\n",
      "train R^2 0.8951186111265917\n"
     ]
    }
   ],
   "source": [
    "gbr = GradientBoostingRegressor(random_state = Rand)\n",
    "gbr.fit(Xtrain, ytrain)\n",
    "print('train R^2', gbr.score(Xtrain, ytrain))\n",
    "print('train R^2', gbr.score(Xtest, ytest))"
   ]
  },
  {
   "cell_type": "code",
   "execution_count": null,
   "metadata": {},
   "outputs": [],
   "source": []
  },
  {
   "cell_type": "code",
   "execution_count": 32,
   "metadata": {},
   "outputs": [],
   "source": [
    "# One can try GridSearchCV for RF or GB to get better result"
   ]
  }
 ],
 "metadata": {
  "kernelspec": {
   "display_name": "Python 3",
   "language": "python",
   "name": "python3"
  },
  "language_info": {
   "codemirror_mode": {
    "name": "ipython",
    "version": 3
   },
   "file_extension": ".py",
   "mimetype": "text/x-python",
   "name": "python",
   "nbconvert_exporter": "python",
   "pygments_lexer": "ipython3",
   "version": "3.8.5"
  }
 },
 "nbformat": 4,
 "nbformat_minor": 2
}
