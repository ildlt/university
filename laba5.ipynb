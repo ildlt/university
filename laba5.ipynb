{
 "cells": [
  {
   "cell_type": "markdown",
   "metadata": {},
   "source": [
    "В этой лабе нам понадобятся библиотеки urllib, request, BeautifulSoup, nltk, wordcloud."
   ]
  },
  {
   "cell_type": "markdown",
   "metadata": {},
   "source": [
    "**(4 баллов) Задание 1.**\n",
    "Алгоритм того, что нужно сделать:\n",
    "\n",
    "Пусть нам дана ссылка с базой https://simple.wikipedia.org . Для нее нужно:\n",
    "\n",
    "1) Сохранить основной текст статьи в словарь. Ключ словаря должен быть уникальным для каждой ссылки(например сама ссылка, или ее укороченная версия, или еще что-то). Навигационное меню, поисковые строки и тд. сохранять не надо, только основной текст.\n",
    "\n",
    "2) Запомнить у статьи все ссылки с той же базой, чтобы впоследствии проделать с ними то же самое.\n",
    "\n",
    "Начинать будем с https://simple.wikipedia.org/wiki/Python .\n",
    "\n",
    "Максимальная глубина для алгоритма должна быть меньше 3(0, 1, 2 - качать, 3 - не качать), где глубина https://simple.wikipedia.org/wiki/Python это 0.\n",
    "\n",
    "Запрещается повторно скачивать статьи, ходить по **Main_Page** и ссылкам, которые содержат **:** (двоеточие) после **/wiki/** .\n",
    "\n",
    "Нужно уметь обрабатывать ошибки."
   ]
  },
  {
   "cell_type": "code",
   "execution_count": null,
   "metadata": {},
   "outputs": [],
   "source": []
  },
  {
   "cell_type": "markdown",
   "metadata": {},
   "source": [
    "**(1 балл) Задание 2.**\n",
    "С помощью библиотеки nltk избавьтесь от всей пунктуации и от всех шумовых слов(вроде the, a, be и т.д.)."
   ]
  },
  {
   "cell_type": "code",
   "execution_count": null,
   "metadata": {},
   "outputs": [],
   "source": []
  },
  {
   "cell_type": "markdown",
   "metadata": {},
   "source": [
    "**(0.5 балл) Задание 3.**\n",
    "Создайте два словаря: в первом посчитайте суммарную частоту встречи каждого слова во всех текстах, а во втором для каждого слова посчитайте количество документов, в которых это слово встречается хотя бы раз.\n",
    "\n",
    "Перечислите слова, которые существуют во всех документах."
   ]
  },
  {
   "cell_type": "code",
   "execution_count": null,
   "metadata": {},
   "outputs": [],
   "source": []
  },
  {
   "cell_type": "markdown",
   "metadata": {},
   "source": [
    "**(0.5 балл) Задание 4.**\n",
    "Постройте гистограмму 10 самых часто встречаемых слов.\n",
    "\n",
    "Все должно быть подписано."
   ]
  },
  {
   "cell_type": "code",
   "execution_count": null,
   "metadata": {},
   "outputs": [],
   "source": []
  },
  {
   "cell_type": "markdown",
   "metadata": {},
   "source": [
    "**(1 балла) Задание 5.**\n",
    "Постройте wordcloud(на основе суммарной частоты) для слов, которые встречаются в менее чем четверти документах."
   ]
  },
  {
   "cell_type": "code",
   "execution_count": null,
   "metadata": {},
   "outputs": [],
   "source": []
  }
 ],
 "metadata": {
  "kernelspec": {
   "display_name": "Python 3 (ipykernel)",
   "language": "python",
   "name": "python3"
  },
  "language_info": {
   "codemirror_mode": {
    "name": "ipython",
    "version": 3
   },
   "file_extension": ".py",
   "mimetype": "text/x-python",
   "name": "python",
   "nbconvert_exporter": "python",
   "pygments_lexer": "ipython3",
   "version": "3.8.10"
  }
 },
 "nbformat": 4,
 "nbformat_minor": 2
}
